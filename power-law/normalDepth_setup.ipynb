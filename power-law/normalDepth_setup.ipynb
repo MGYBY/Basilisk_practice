{
 "cells": [
  {
   "cell_type": "code",
   "execution_count": 10,
   "id": "02d8cfbe",
   "metadata": {},
   "outputs": [],
   "source": [
    "import sympy as sp\n",
    "import numpy as np"
   ]
  },
  {
   "cell_type": "code",
   "execution_count": 2,
   "id": "55deacca",
   "metadata": {},
   "outputs": [],
   "source": [
    "h,u = sp.symbols(\"h,u\")"
   ]
  },
  {
   "cell_type": "code",
   "execution_count": 3,
   "id": "cc0359c0",
   "metadata": {},
   "outputs": [],
   "source": [
    "ct, g = sp.symbols(\"ct,g\")"
   ]
  },
  {
   "cell_type": "code",
   "execution_count": 4,
   "id": "3fd843a1",
   "metadata": {},
   "outputs": [],
   "source": [
    "α = sp.symbols(\"alpha\")"
   ]
  },
  {
   "cell_type": "code",
   "execution_count": 5,
   "id": "6acb9582",
   "metadata": {},
   "outputs": [],
   "source": [
    "n = sp.symbols(\"n\")"
   ]
  },
  {
   "cell_type": "code",
   "execution_count": 7,
   "id": "6bf10dda",
   "metadata": {},
   "outputs": [],
   "source": [
    "ρ = sp.symbols(\"rho\")\n",
    "mun = sp.symbols(\"mun\")"
   ]
  },
  {
   "cell_type": "code",
   "execution_count": 28,
   "id": "3b3f715a",
   "metadata": {},
   "outputs": [],
   "source": [
    "u_expr = (n/(2*n+1))*(ρ*g*sp.sqrt(1-(ct)**2)*(h)**(1+n)/mun)**(1/n)"
   ]
  },
  {
   "cell_type": "code",
   "execution_count": 29,
   "id": "d9b80716",
   "metadata": {},
   "outputs": [],
   "source": [
    "u_expr_val = u_expr.evalf(subs={n:0.4, ρ:1000.0, g:9.81, ct:(np.sqrt(1.0-0.1**2)), mun:0.20})"
   ]
  },
  {
   "cell_type": "code",
   "execution_count": 30,
   "id": "cec379c6",
   "metadata": {},
   "outputs": [
    {
     "data": {
      "text/latex": [
       "$\\displaystyle 374442395.957326 \\left(h^{1.4}\\right)^{2.5}$"
      ],
      "text/plain": [
       "374442395.957326*(h**1.4)**2.5"
      ]
     },
     "execution_count": 30,
     "metadata": {},
     "output_type": "execute_result"
    }
   ],
   "source": [
    "u_expr_val"
   ]
  },
  {
   "cell_type": "code",
   "execution_count": 31,
   "id": "b061bfcd",
   "metadata": {},
   "outputs": [],
   "source": [
    "alpha_expr = (ct*g*h)/(u_expr)**2-α"
   ]
  },
  {
   "cell_type": "code",
   "execution_count": 32,
   "id": "4c34e2c4",
   "metadata": {},
   "outputs": [],
   "source": [
    "alpha_expr_val = alpha_expr.evalf(subs={n:0.4, ρ:1000.0, g:9.81, ct:(np.sqrt(1.0-0.1**2)), mun:0.20, α:1.0})"
   ]
  },
  {
   "cell_type": "code",
   "execution_count": 33,
   "id": "b713ef52",
   "metadata": {},
   "outputs": [
    {
     "data": {
      "text/plain": [
       "[-0.00202824039941640,\n",
       " 0.00202824039941640,\n",
       " -0.0010141201997082 - 0.0017565077108765*I,\n",
       " -0.0010141201997082 + 0.0017565077108765*I,\n",
       " 0.0010141201997082 - 0.0017565077108765*I,\n",
       " 0.0010141201997082 + 0.0017565077108765*I]"
      ]
     },
     "execution_count": 33,
     "metadata": {},
     "output_type": "execute_result"
    }
   ],
   "source": [
    "sp.solve(alpha_expr_val, h)"
   ]
  },
  {
   "cell_type": "code",
   "execution_count": 34,
   "id": "f738497a",
   "metadata": {},
   "outputs": [
    {
     "data": {
      "text/latex": [
       "$\\displaystyle 4.64222693995551 \\cdot 10^{-15}$"
      ],
      "text/plain": [
       "4.64222693995551e-15"
      ]
     },
     "execution_count": 34,
     "metadata": {},
     "output_type": "execute_result"
    }
   ],
   "source": [
    "alpha_expr_sol = alpha_expr.evalf(subs={n:0.4, ρ:1000.0, g:9.81, ct:(np.sqrt(1.0-0.1**2)), mun:0.20, α:1.0, h:0.00202824039941640})\n",
    "alpha_expr_sol"
   ]
  },
  {
   "cell_type": "code",
   "execution_count": 19,
   "id": "b157a10c",
   "metadata": {},
   "outputs": [
    {
     "data": {
      "text/latex": [
       "$\\displaystyle 3.83262738511749$"
      ],
      "text/plain": [
       "3.83262738511749"
      ]
     },
     "execution_count": 19,
     "metadata": {},
     "output_type": "execute_result"
    }
   ],
   "source": [
    "alpha_expr_sol = alpha_expr.evalf(subs={n:0.4, ρ:1000.0, g:9.81, ct:(np.sqrt(1.0-0.1**2)), mun:0.20, α:0.40, h:0.001})\n",
    "alpha_expr_sol"
   ]
  },
  {
   "cell_type": "code",
   "execution_count": 35,
   "id": "c6071d74",
   "metadata": {},
   "outputs": [],
   "source": [
    "u_expr_sol = u_expr.evalf(subs={n:0.4, ρ:1000.0, g:9.81, ct:(np.sqrt(1.0-0.1**2)), mun:0.20, h:0.00202824039941640})"
   ]
  },
  {
   "cell_type": "code",
   "execution_count": 36,
   "id": "924e52da",
   "metadata": {},
   "outputs": [
    {
     "data": {
      "text/latex": [
       "$\\displaystyle 0.140702889672929$"
      ],
      "text/plain": [
       "0.140702889672929"
      ]
     },
     "execution_count": 36,
     "metadata": {},
     "output_type": "execute_result"
    }
   ],
   "source": [
    "u_expr_sol"
   ]
  },
  {
   "cell_type": "code",
   "execution_count": null,
   "id": "e5ed7bd2",
   "metadata": {},
   "outputs": [],
   "source": []
  }
 ],
 "metadata": {
  "kernelspec": {
   "display_name": "Python 3 (ipykernel)",
   "language": "python",
   "name": "python3"
  },
  "language_info": {
   "codemirror_mode": {
    "name": "ipython",
    "version": 3
   },
   "file_extension": ".py",
   "mimetype": "text/x-python",
   "name": "python",
   "nbconvert_exporter": "python",
   "pygments_lexer": "ipython3",
   "version": "3.8.10"
  }
 },
 "nbformat": 4,
 "nbformat_minor": 5
}
