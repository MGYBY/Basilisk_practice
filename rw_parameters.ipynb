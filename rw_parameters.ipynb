{
 "cells": [
  {
   "cell_type": "code",
   "execution_count": 2,
   "metadata": {},
   "outputs": [],
   "source": [
    "import numpy as np"
   ]
  },
  {
   "cell_type": "code",
   "execution_count": 7,
   "metadata": {},
   "outputs": [],
   "source": [
    "# Fr=3.71\n",
    "Fr = 3.71\n",
    "hn=0.314*0.0254\n",
    "So=0.05011\n",
    "un=Fr*np.sqrt(9.81*hn)\n",
    "T1 = 1.08/So/np.sqrt(9.81/hn)\n",
    "T2 = 1.64/So/np.sqrt(9.81/hn)\n",
    "T3 = 2.14/So/np.sqrt(9.81/hn)"
   ]
  },
  {
   "cell_type": "code",
   "execution_count": 9,
   "metadata": {},
   "outputs": [
    {
     "data": {
      "text/plain": [
       "(0.0079756,\n",
       " 0.05011,\n",
       " 1.0377436764286256,\n",
       " 0.6145348709874556,\n",
       " 0.9331825818698398,\n",
       " 1.2176894665862548)"
      ]
     },
     "execution_count": 9,
     "metadata": {},
     "output_type": "execute_result"
    }
   ],
   "source": [
    "hn, So, un, T1, T2, T3"
   ]
  },
  {
   "cell_type": "code",
   "execution_count": 3,
   "metadata": {},
   "outputs": [],
   "source": [
    "# Fr=4.63\n",
    "Fr = 4.63\n",
    "hn=0.208*0.0254\n",
    "So=0.08429\n",
    "un=Fr*np.sqrt(9.81*hn)\n",
    "T1 = 1.63/So/np.sqrt(9.81/hn)\n",
    "T2 = 2.89/So/np.sqrt(9.81/hn)\n",
    "T3 = 4.07/So/np.sqrt(9.81/hn)\n",
    "T4 = 4.53/So/np.sqrt(9.81/hn)"
   ]
  },
  {
   "cell_type": "code",
   "execution_count": 4,
   "metadata": {},
   "outputs": [
    {
     "data": {
      "text/plain": [
       "(0.005283199999999999,\n",
       " 0.08429,\n",
       " 1.0540568149226113,\n",
       " 0.4487718142960525,\n",
       " 0.7956751799482159,\n",
       " 1.1205529350827816,\n",
       " 1.2472001955589682)"
      ]
     },
     "execution_count": 4,
     "metadata": {},
     "output_type": "execute_result"
    }
   ],
   "source": [
    "hn, So, un, T1, T2, T3, T4"
   ]
  },
  {
   "cell_type": "markdown",
   "metadata": {},
   "source": []
  },
  {
   "cell_type": "code",
   "execution_count": 5,
   "metadata": {},
   "outputs": [],
   "source": [
    "# Fr=5.60\n",
    "Fr = 5.60\n",
    "hn=0.21*0.0254\n",
    "So=0.1192\n",
    "un=Fr*np.sqrt(9.81*hn)\n",
    "T1 = 2.25/So/np.sqrt(9.81/hn)\n",
    "T2 = 3.55/So/np.sqrt(9.81/hn)\n",
    "T3 = 5.19/So/np.sqrt(9.81/hn)"
   ]
  },
  {
   "cell_type": "code",
   "execution_count": 6,
   "metadata": {},
   "outputs": [
    {
     "data": {
      "text/plain": [
       "(0.005333999999999999,\n",
       " 0.1192,\n",
       " 1.2809997245901343,\n",
       " 0.4401475255904555,\n",
       " 0.6944549848204965,\n",
       " 1.0152736256953174)"
      ]
     },
     "execution_count": 6,
     "metadata": {},
     "output_type": "execute_result"
    }
   ],
   "source": [
    "hn, So, un, T1, T2, T3"
   ]
  },
  {
   "cell_type": "markdown",
   "metadata": {},
   "source": [
    "# end of doc"
   ]
  },
  {
   "cell_type": "code",
   "execution_count": null,
   "metadata": {},
   "outputs": [],
   "source": []
  }
 ],
 "metadata": {
  "kernelspec": {
   "display_name": "Python 3",
   "language": "python",
   "name": "python3"
  },
  "language_info": {
   "codemirror_mode": {
    "name": "ipython",
    "version": 3
   },
   "file_extension": ".py",
   "mimetype": "text/x-python",
   "name": "python",
   "nbconvert_exporter": "python",
   "pygments_lexer": "ipython3",
   "version": "3.8.5"
  }
 },
 "nbformat": 4,
 "nbformat_minor": 4
}
